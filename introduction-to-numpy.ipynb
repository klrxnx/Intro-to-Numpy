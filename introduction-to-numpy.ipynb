{
 "cells": [
  {
   "cell_type": "code",
   "execution_count": 1,
   "id": "46110010-8998-42e3-9a01-99e4b876dad5",
   "metadata": {},
   "outputs": [],
   "source": [
    "import numpy as np"
   ]
  },
  {
   "cell_type": "markdown",
   "id": "f03a5fe8-02ed-4cc6-b899-a8b27ce83167",
   "metadata": {},
   "source": [
    "# DataTypes and Attributes"
   ]
  },
  {
   "cell_type": "code",
   "execution_count": 2,
   "id": "ebdc9f14-b7fa-4015-b301-2840d1fac1b0",
   "metadata": {},
   "outputs": [
    {
     "data": {
      "text/plain": [
       "array([1, 2, 3])"
      ]
     },
     "execution_count": 2,
     "metadata": {},
     "output_type": "execute_result"
    }
   ],
   "source": [
    "# NumPy's main datatype is ndarray \n",
    "# *nd means n dimensional \n",
    "\n",
    "a1 = np.array([1,2,3])\n",
    "a1"
   ]
  },
  {
   "cell_type": "code",
   "execution_count": 3,
   "id": "1d5f4ae0-b65c-412a-9cec-86e196f8b935",
   "metadata": {},
   "outputs": [
    {
     "data": {
      "text/plain": [
       "numpy.ndarray"
      ]
     },
     "execution_count": 3,
     "metadata": {},
     "output_type": "execute_result"
    }
   ],
   "source": [
    "type(a1)"
   ]
  },
  {
   "cell_type": "code",
   "execution_count": 5,
   "id": "03649da4-e7bd-4c84-9611-d89699b70af7",
   "metadata": {},
   "outputs": [
    {
     "data": {
      "text/plain": [
       "array([[1. , 2. , 3. ],\n",
       "       [5. , 2.4, 3.7]])"
      ]
     },
     "execution_count": 5,
     "metadata": {},
     "output_type": "execute_result"
    }
   ],
   "source": [
    "a2 = np.array([[1,2,3],\n",
    "              [5,2.4,3.7]])\n",
    "a2"
   ]
  },
  {
   "cell_type": "code",
   "execution_count": 8,
   "id": "fd33cddd-3170-4fcb-867d-cd3d62fd0845",
   "metadata": {},
   "outputs": [
    {
     "data": {
      "text/plain": [
       "array([[[ 1,  2,  3],\n",
       "        [ 4,  5,  6],\n",
       "        [ 7,  8,  9]],\n",
       "\n",
       "       [[ 7,  8,  9],\n",
       "        [10, 11, 12],\n",
       "        [16, 17, 18]]])"
      ]
     },
     "execution_count": 8,
     "metadata": {},
     "output_type": "execute_result"
    }
   ],
   "source": [
    "a3 = np.array([[[1, 2, 3],\n",
    "                [4, 5, 6],\n",
    "                [7, 8, 9]],\n",
    "                [[7, 8, 9],\n",
    "                [10, 11, 12],\n",
    "                [16, 17, 18]]])\n",
    "a3"
   ]
  },
  {
   "cell_type": "code",
   "execution_count": 9,
   "id": "4bbe1ac0-8aac-4ec1-a1fc-b3c92c72cb9f",
   "metadata": {},
   "outputs": [
    {
     "data": {
      "text/plain": [
       "(3,)"
      ]
     },
     "execution_count": 9,
     "metadata": {},
     "output_type": "execute_result"
    }
   ],
   "source": [
    "a1.shape"
   ]
  },
  {
   "cell_type": "code",
   "execution_count": 10,
   "id": "7a050255-0a57-4b7c-bb03-b9015633119a",
   "metadata": {},
   "outputs": [
    {
     "data": {
      "text/plain": [
       "(2, 3)"
      ]
     },
     "execution_count": 10,
     "metadata": {},
     "output_type": "execute_result"
    }
   ],
   "source": [
    "a2.shape"
   ]
  },
  {
   "cell_type": "code",
   "execution_count": 11,
   "id": "f4319b58-fd40-448e-b209-508f664206fa",
   "metadata": {},
   "outputs": [
    {
     "data": {
      "text/plain": [
       "(2, 3, 3)"
      ]
     },
     "execution_count": 11,
     "metadata": {},
     "output_type": "execute_result"
    }
   ],
   "source": [
    "a3.shape"
   ]
  },
  {
   "cell_type": "code",
   "execution_count": 12,
   "id": "6d8930bd-2753-4c37-8693-384ef1012f46",
   "metadata": {},
   "outputs": [
    {
     "data": {
      "text/plain": [
       "(1, 2, 3)"
      ]
     },
     "execution_count": 12,
     "metadata": {},
     "output_type": "execute_result"
    }
   ],
   "source": [
    "a1.ndim, a2.ndim, a3.ndim, "
   ]
  },
  {
   "cell_type": "code",
   "execution_count": 13,
   "id": "58f6b2c5-87e2-485a-855f-f6e18935a951",
   "metadata": {},
   "outputs": [
    {
     "data": {
      "text/plain": [
       "(dtype('int32'), dtype('float64'), dtype('int32'))"
      ]
     },
     "execution_count": 13,
     "metadata": {},
     "output_type": "execute_result"
    }
   ],
   "source": [
    "a1.dtype, a2.dtype, a3.dtype"
   ]
  },
  {
   "cell_type": "code",
   "execution_count": 14,
   "id": "941b54be-4f1f-4eec-b183-137a37e13031",
   "metadata": {},
   "outputs": [
    {
     "data": {
      "text/plain": [
       "(3, 6, 18)"
      ]
     },
     "execution_count": 14,
     "metadata": {},
     "output_type": "execute_result"
    }
   ],
   "source": [
    "a1.size, a2.size, a3.size"
   ]
  },
  {
   "cell_type": "code",
   "execution_count": 15,
   "id": "e5a6f8f6-2bfd-4aef-b9e0-fa88b19f3641",
   "metadata": {},
   "outputs": [
    {
     "data": {
      "text/plain": [
       "(numpy.ndarray, numpy.ndarray, numpy.ndarray)"
      ]
     },
     "execution_count": 15,
     "metadata": {},
     "output_type": "execute_result"
    }
   ],
   "source": [
    "type(a1), type(a2), type(a3)"
   ]
  },
  {
   "cell_type": "code",
   "execution_count": 17,
   "id": "f07b4699-bbbf-47b8-a166-6a81830ee784",
   "metadata": {},
   "outputs": [
    {
     "data": {
      "text/html": [
       "<div>\n",
       "<style scoped>\n",
       "    .dataframe tbody tr th:only-of-type {\n",
       "        vertical-align: middle;\n",
       "    }\n",
       "\n",
       "    .dataframe tbody tr th {\n",
       "        vertical-align: top;\n",
       "    }\n",
       "\n",
       "    .dataframe thead th {\n",
       "        text-align: right;\n",
       "    }\n",
       "</style>\n",
       "<table border=\"1\" class=\"dataframe\">\n",
       "  <thead>\n",
       "    <tr style=\"text-align: right;\">\n",
       "      <th></th>\n",
       "      <th>0</th>\n",
       "      <th>1</th>\n",
       "      <th>2</th>\n",
       "    </tr>\n",
       "  </thead>\n",
       "  <tbody>\n",
       "    <tr>\n",
       "      <th>0</th>\n",
       "      <td>1.0</td>\n",
       "      <td>2.0</td>\n",
       "      <td>3.0</td>\n",
       "    </tr>\n",
       "    <tr>\n",
       "      <th>1</th>\n",
       "      <td>5.0</td>\n",
       "      <td>2.4</td>\n",
       "      <td>3.7</td>\n",
       "    </tr>\n",
       "  </tbody>\n",
       "</table>\n",
       "</div>"
      ],
      "text/plain": [
       "     0    1    2\n",
       "0  1.0  2.0  3.0\n",
       "1  5.0  2.4  3.7"
      ]
     },
     "execution_count": 17,
     "metadata": {},
     "output_type": "execute_result"
    }
   ],
   "source": [
    "#Creating a DataFrame from a Numpy array\n",
    "\n",
    "import pandas as pd \n",
    "\n",
    "df= pd.DataFrame(a2)\n",
    "df"
   ]
  },
  {
   "cell_type": "markdown",
   "id": "bc326086-79e8-4b79-857a-c511d2e0b210",
   "metadata": {},
   "source": [
    "## Creating Arrays"
   ]
  },
  {
   "cell_type": "code",
   "execution_count": 19,
   "id": "e2d077d6-d5fd-4d0c-8e6a-4387ad0c1d71",
   "metadata": {},
   "outputs": [
    {
     "data": {
      "text/plain": [
       "array([1, 2, 4])"
      ]
     },
     "execution_count": 19,
     "metadata": {},
     "output_type": "execute_result"
    }
   ],
   "source": [
    "sample_array = np.array([1,2,4])\n",
    "sample_array"
   ]
  },
  {
   "cell_type": "code",
   "execution_count": 20,
   "id": "496e202b-db06-4242-868e-f35442fb7ef4",
   "metadata": {},
   "outputs": [
    {
     "data": {
      "text/plain": [
       "dtype('int32')"
      ]
     },
     "execution_count": 20,
     "metadata": {},
     "output_type": "execute_result"
    }
   ],
   "source": [
    "sample_array.dtype"
   ]
  },
  {
   "cell_type": "code",
   "execution_count": 23,
   "id": "94ebed15-5ed3-479f-ad5d-995d1b0dda64",
   "metadata": {},
   "outputs": [
    {
     "data": {
      "text/plain": [
       "array([[1., 1., 1.],\n",
       "       [1., 1., 1.]])"
      ]
     },
     "execution_count": 23,
     "metadata": {},
     "output_type": "execute_result"
    }
   ],
   "source": [
    "ones = np.ones((2,3))\n",
    "ones"
   ]
  },
  {
   "cell_type": "code",
   "execution_count": 28,
   "id": "49f3765c-8c7d-4e11-8672-4f656e6840bb",
   "metadata": {},
   "outputs": [
    {
     "data": {
      "text/plain": [
       "array([[[1., 1., 1., 1.],\n",
       "        [1., 1., 1., 1.]]])"
      ]
     },
     "execution_count": 28,
     "metadata": {},
     "output_type": "execute_result"
    }
   ],
   "source": [
    "ones = np.ones(sample_array)\n",
    "ones\n",
    "\n",
    "#fills an array with 1s"
   ]
  },
  {
   "cell_type": "code",
   "execution_count": 29,
   "id": "796a4c14-86b9-4814-9529-f8a0c3397363",
   "metadata": {},
   "outputs": [
    {
     "data": {
      "text/plain": [
       "array([[[0., 0., 0., 0.],\n",
       "        [0., 0., 0., 0.]]])"
      ]
     },
     "execution_count": 29,
     "metadata": {},
     "output_type": "execute_result"
    }
   ],
   "source": [
    "zeroes = np.zeros(sample_array)\n",
    "zeroes\n",
    "\n",
    "#this fills an array with zeros"
   ]
  },
  {
   "cell_type": "code",
   "execution_count": 35,
   "id": "6303fbed-f5c6-41ee-afeb-56eb01da70f2",
   "metadata": {},
   "outputs": [
    {
     "data": {
      "text/plain": [
       "array([0, 2, 4, 6, 8])"
      ]
     },
     "execution_count": 35,
     "metadata": {},
     "output_type": "execute_result"
    }
   ],
   "source": [
    "range_array = np.arange(0, 10, 2)\n",
    "range_array\n",
    "# 0 is the start number (start of interval)\n",
    "# 10 is the stop number (end of interval)\n",
    "# 2 is the step (the number will step by 2)"
   ]
  },
  {
   "cell_type": "code",
   "execution_count": 44,
   "id": "b5786879-2aae-44c0-adf4-3221007c44a3",
   "metadata": {},
   "outputs": [
    {
     "data": {
      "text/plain": [
       "array([[1, 3, 8, 3, 5],\n",
       "       [7, 1, 9, 5, 5],\n",
       "       [6, 0, 5, 4, 2]])"
      ]
     },
     "execution_count": 44,
     "metadata": {},
     "output_type": "execute_result"
    }
   ],
   "source": [
    "random_array = np.random.randint(0,10, size=(3,5))\n",
    "random_array \n",
    "#this generates random integer(randint) in an array\n",
    "#0 is lowest number\n",
    "# 10 is highest \n",
    "#size is the size of array (3x5)"
   ]
  },
  {
   "cell_type": "code",
   "execution_count": 45,
   "id": "d83de1ff-e186-45f1-b3cd-d1e9e9e110a7",
   "metadata": {},
   "outputs": [
    {
     "data": {
      "text/plain": [
       "15"
      ]
     },
     "execution_count": 45,
     "metadata": {},
     "output_type": "execute_result"
    }
   ],
   "source": [
    "random_array.size"
   ]
  },
  {
   "cell_type": "code",
   "execution_count": 46,
   "id": "684b8289-8ab7-437f-a4c1-08dd0409ebf7",
   "metadata": {},
   "outputs": [
    {
     "data": {
      "text/plain": [
       "(3, 5)"
      ]
     },
     "execution_count": 46,
     "metadata": {},
     "output_type": "execute_result"
    }
   ],
   "source": [
    "random_array.shape"
   ]
  },
  {
   "cell_type": "code",
   "execution_count": 48,
   "id": "6a350316-0fbe-439e-a8d9-0404038d7c07",
   "metadata": {},
   "outputs": [
    {
     "data": {
      "text/plain": [
       "array([[0.15981951, 0.23542164, 0.78694393],\n",
       "       [0.4239675 , 0.63116237, 0.24047652],\n",
       "       [0.85575155, 0.47465946, 0.28085915],\n",
       "       [0.41046858, 0.97881145, 0.02077217],\n",
       "       [0.17541695, 0.46959025, 0.2742913 ]])"
      ]
     },
     "execution_count": 48,
     "metadata": {},
     "output_type": "execute_result"
    }
   ],
   "source": [
    "np.random.random((5,3))"
   ]
  },
  {
   "cell_type": "code",
   "execution_count": 64,
   "id": "bb2067ac-0b89-4fd4-bc6e-b7e1bc4ad383",
   "metadata": {},
   "outputs": [
    {
     "data": {
      "text/plain": [
       "array([[7, 5, 1],\n",
       "       [8, 7, 8],\n",
       "       [2, 9, 7],\n",
       "       [7, 7, 9],\n",
       "       [8, 4, 2]])"
      ]
     },
     "execution_count": 64,
     "metadata": {},
     "output_type": "execute_result"
    }
   ],
   "source": [
    "#pseudo-random numbers \n",
    "np.random.seed(seed = 4)\n",
    "random_array_4 = np.random.randint(10, size=(5,3))\n",
    "random_array_4\n",
    "#random seed keeps the generated number"
   ]
  },
  {
   "cell_type": "code",
   "execution_count": 67,
   "id": "e6069534-555d-4c83-aa48-f6be286428ff",
   "metadata": {},
   "outputs": [
    {
     "data": {
      "text/plain": [
       "array([[7, 5, 1],\n",
       "       [8, 7, 8],\n",
       "       [2, 9, 7],\n",
       "       [7, 7, 9],\n",
       "       [8, 4, 2]])"
      ]
     },
     "execution_count": 67,
     "metadata": {},
     "output_type": "execute_result"
    }
   ],
   "source": [
    "np.random.seed(seed = 4)\n",
    "random_array_5 = np.random.randint(10, size=(5,3))\n",
    "random_array_5\n",
    "#the number of the seed keeps it as a key. \n",
    "#If you use the same number of seed, you will get the same result as the other that used it"
   ]
  },
  {
   "cell_type": "markdown",
   "id": "6ce05203-247c-4620-878e-124ce6314d1f",
   "metadata": {},
   "source": [
    "## Viewing arrays and matrices"
   ]
  },
  {
   "cell_type": "code",
   "execution_count": 68,
   "id": "d4782d90-95bd-4276-a8b5-2e0a825cf820",
   "metadata": {},
   "outputs": [
    {
     "data": {
      "text/plain": [
       "2"
      ]
     },
     "execution_count": 68,
     "metadata": {},
     "output_type": "execute_result"
    }
   ],
   "source": [
    "a1[1]"
   ]
  },
  {
   "cell_type": "code",
   "execution_count": 69,
   "id": "587fa442-233b-44dc-84d1-7513f4466c8c",
   "metadata": {},
   "outputs": [
    {
     "data": {
      "text/plain": [
       "array([1, 2, 3])"
      ]
     },
     "execution_count": 69,
     "metadata": {},
     "output_type": "execute_result"
    }
   ],
   "source": [
    "a1"
   ]
  },
  {
   "cell_type": "code",
   "execution_count": 70,
   "id": "20da0bae-e8b0-43bd-a6c5-91b51642b82d",
   "metadata": {},
   "outputs": [
    {
     "data": {
      "text/plain": [
       "1"
      ]
     },
     "execution_count": 70,
     "metadata": {},
     "output_type": "execute_result"
    }
   ],
   "source": [
    "a1[0]\n",
    "#0 is the index number in an array"
   ]
  },
  {
   "cell_type": "code",
   "execution_count": 71,
   "id": "c220b95f-d797-43d4-9020-f7bb434bd099",
   "metadata": {},
   "outputs": [
    {
     "data": {
      "text/plain": [
       "array([[[ 1,  2,  3],\n",
       "        [ 4,  5,  6],\n",
       "        [ 7,  8,  9]],\n",
       "\n",
       "       [[ 7,  8,  9],\n",
       "        [10, 11, 12],\n",
       "        [16, 17, 18]]])"
      ]
     },
     "execution_count": 71,
     "metadata": {},
     "output_type": "execute_result"
    }
   ],
   "source": [
    "a3"
   ]
  },
  {
   "cell_type": "code",
   "execution_count": 72,
   "id": "99ef9053-37eb-4706-bb69-b12cc0324a7e",
   "metadata": {},
   "outputs": [
    {
     "data": {
      "text/plain": [
       "array([[ 7,  8,  9],\n",
       "       [10, 11, 12],\n",
       "       [16, 17, 18]])"
      ]
     },
     "execution_count": 72,
     "metadata": {},
     "output_type": "execute_result"
    }
   ],
   "source": [
    "a3[1]\n",
    "#this  gives us the index 1 of an array"
   ]
  },
  {
   "cell_type": "code",
   "execution_count": 76,
   "id": "5a5ebe3b-cee7-416f-af12-f2adbb23f113",
   "metadata": {},
   "outputs": [
    {
     "data": {
      "text/plain": [
       "array([4, 5, 6])"
      ]
     },
     "execution_count": 76,
     "metadata": {},
     "output_type": "execute_result"
    }
   ],
   "source": [
    "a3[0,1]\n",
    "#this  gives us the index 0 of an array, then the index 1 of the selected dimension"
   ]
  },
  {
   "cell_type": "code",
   "execution_count": 77,
   "id": "05f84f0a-271f-4b1b-9d8f-44f0bd0cabbd",
   "metadata": {},
   "outputs": [
    {
     "data": {
      "text/plain": [
       "array([[[ 1,  2],\n",
       "        [ 4,  5]],\n",
       "\n",
       "       [[ 7,  8],\n",
       "        [10, 11]]])"
      ]
     },
     "execution_count": 77,
     "metadata": {},
     "output_type": "execute_result"
    }
   ],
   "source": [
    "a3[:2,:2,:2]\n",
    "#this gets the first 2 values of each "
   ]
  },
  {
   "cell_type": "code",
   "execution_count": 78,
   "id": "db9854a9-419f-44ba-b654-c94d9d8728c8",
   "metadata": {},
   "outputs": [
    {
     "data": {
      "text/plain": [
       "array([[[[6, 4, 3, 0, 7],\n",
       "         [5, 5, 9, 6, 6],\n",
       "         [8, 2, 5, 8, 1],\n",
       "         [2, 7, 0, 8, 3]],\n",
       "\n",
       "        [[1, 0, 3, 2, 3],\n",
       "         [2, 9, 2, 1, 0],\n",
       "         [1, 9, 9, 0, 7],\n",
       "         [2, 6, 3, 7, 8]],\n",
       "\n",
       "        [[2, 6, 7, 7, 9],\n",
       "         [2, 7, 5, 3, 0],\n",
       "         [5, 4, 3, 8, 9],\n",
       "         [5, 8, 6, 7, 0]]],\n",
       "\n",
       "\n",
       "       [[[4, 6, 8, 4, 8],\n",
       "         [1, 9, 5, 4, 2],\n",
       "         [3, 4, 7, 6, 6],\n",
       "         [8, 0, 3, 5, 6]],\n",
       "\n",
       "        [[1, 1, 6, 0, 8],\n",
       "         [7, 5, 7, 6, 8],\n",
       "         [4, 4, 0, 7, 2],\n",
       "         [1, 8, 8, 1, 3]],\n",
       "\n",
       "        [[1, 3, 6, 7, 4],\n",
       "         [0, 7, 3, 7, 9],\n",
       "         [6, 6, 9, 3, 2],\n",
       "         [7, 6, 7, 9, 4]]]])"
      ]
     },
     "execution_count": 78,
     "metadata": {},
     "output_type": "execute_result"
    }
   ],
   "source": [
    "a4 = np.random.randint(10, size=(2,3,4,5))\n",
    "a4"
   ]
  },
  {
   "cell_type": "code",
   "execution_count": 82,
   "id": "2ac34c1a-a734-4ae4-893f-606c67fa7898",
   "metadata": {},
   "outputs": [
    {
     "data": {
      "text/plain": [
       "array([[[[6, 4],\n",
       "         [5, 5],\n",
       "         [8, 2],\n",
       "         [2, 7]],\n",
       "\n",
       "        [[1, 0],\n",
       "         [2, 9],\n",
       "         [1, 9],\n",
       "         [2, 6]],\n",
       "\n",
       "        [[2, 6],\n",
       "         [2, 7],\n",
       "         [5, 4],\n",
       "         [5, 8]]],\n",
       "\n",
       "\n",
       "       [[[4, 6],\n",
       "         [1, 9],\n",
       "         [3, 4],\n",
       "         [8, 0]],\n",
       "\n",
       "        [[1, 1],\n",
       "         [7, 5],\n",
       "         [4, 4],\n",
       "         [1, 8]],\n",
       "\n",
       "        [[1, 3],\n",
       "         [0, 7],\n",
       "         [6, 6],\n",
       "         [7, 6]]]])"
      ]
     },
     "execution_count": 82,
     "metadata": {},
     "output_type": "execute_result"
    }
   ],
   "source": [
    "#getting the first 2 numbers of the innermost array \n",
    "a4[:, :, :, :2]\n",
    "#getting the first 2 numbers of inner most dimensions "
   ]
  },
  {
   "cell_type": "markdown",
   "id": "578faa69-8c31-4e6b-a41e-e6dbc12bddcc",
   "metadata": {},
   "source": [
    "## Manipulating and Comparing Arrays"
   ]
  },
  {
   "cell_type": "markdown",
   "id": "6727c5d9-bdae-4439-9821-0b079bb58f1c",
   "metadata": {},
   "source": [
    "### Arithmetic"
   ]
  },
  {
   "cell_type": "code",
   "execution_count": 83,
   "id": "f78b0a67-f315-458b-8185-4d810da7645d",
   "metadata": {},
   "outputs": [
    {
     "data": {
      "text/plain": [
       "array([1, 2, 3])"
      ]
     },
     "execution_count": 83,
     "metadata": {},
     "output_type": "execute_result"
    }
   ],
   "source": [
    "a1"
   ]
  },
  {
   "cell_type": "code",
   "execution_count": 88,
   "id": "10cb1ce3-ada2-48e1-93ab-5cff5edcb79d",
   "metadata": {},
   "outputs": [
    {
     "data": {
      "text/plain": [
       "array([1., 1., 1.])"
      ]
     },
     "execution_count": 88,
     "metadata": {},
     "output_type": "execute_result"
    }
   ],
   "source": [
    "ones = np.ones(3)\n",
    "ones"
   ]
  },
  {
   "cell_type": "code",
   "execution_count": 89,
   "id": "4249e491-4f7b-42c8-ab4d-ce51501151d5",
   "metadata": {},
   "outputs": [
    {
     "data": {
      "text/plain": [
       "array([2., 3., 4.])"
      ]
     },
     "execution_count": 89,
     "metadata": {},
     "output_type": "execute_result"
    }
   ],
   "source": [
    "a1+ones"
   ]
  },
  {
   "cell_type": "code",
   "execution_count": 90,
   "id": "02f19ca0-85f8-425d-9160-540fa8a8eb53",
   "metadata": {},
   "outputs": [
    {
     "data": {
      "text/plain": [
       "array([0., 1., 2.])"
      ]
     },
     "execution_count": 90,
     "metadata": {},
     "output_type": "execute_result"
    }
   ],
   "source": [
    "a1 - ones"
   ]
  },
  {
   "cell_type": "code",
   "execution_count": 91,
   "id": "79cb5824-5db2-4214-a4ee-22691117cc72",
   "metadata": {},
   "outputs": [
    {
     "data": {
      "text/plain": [
       "array([1., 2., 3.])"
      ]
     },
     "execution_count": 91,
     "metadata": {},
     "output_type": "execute_result"
    }
   ],
   "source": [
    "a1*ones"
   ]
  },
  {
   "cell_type": "code",
   "execution_count": 94,
   "id": "9a42501b-9984-4098-8685-3f4d54947f38",
   "metadata": {},
   "outputs": [
    {
     "data": {
      "text/plain": [
       "dtype('int32')"
      ]
     },
     "execution_count": 94,
     "metadata": {},
     "output_type": "execute_result"
    }
   ],
   "source": [
    "a1.dtype"
   ]
  },
  {
   "cell_type": "code",
   "execution_count": 99,
   "id": "9d58852c-1623-41b8-b051-f8c7836a556e",
   "metadata": {},
   "outputs": [
    {
     "data": {
      "text/plain": [
       "array([1, 2, 3])"
      ]
     },
     "execution_count": 99,
     "metadata": {},
     "output_type": "execute_result"
    }
   ],
   "source": [
    "a1"
   ]
  },
  {
   "cell_type": "code",
   "execution_count": 100,
   "id": "adc4f83e-7df8-4c68-b616-b9e10a2d2d3d",
   "metadata": {},
   "outputs": [
    {
     "data": {
      "text/plain": [
       "array([[1. , 2. , 3. ],\n",
       "       [5. , 2.4, 3.7]])"
      ]
     },
     "execution_count": 100,
     "metadata": {},
     "output_type": "execute_result"
    }
   ],
   "source": [
    "a2"
   ]
  },
  {
   "cell_type": "code",
   "execution_count": 101,
   "id": "5b92a71d-87c8-462a-9177-195cc694bbe0",
   "metadata": {},
   "outputs": [
    {
     "data": {
      "text/plain": [
       "array([[ 1. ,  4. ,  9. ],\n",
       "       [ 5. ,  4.8, 11.1]])"
      ]
     },
     "execution_count": 101,
     "metadata": {},
     "output_type": "execute_result"
    }
   ],
   "source": [
    "a1*a2\n",
    "\n",
    "#a1 (smaller array) is being broadcast to larger array (a2)"
   ]
  },
  {
   "cell_type": "code",
   "execution_count": 102,
   "id": "54173183-9244-44dc-a422-5f605b52dbd2",
   "metadata": {},
   "outputs": [
    {
     "ename": "ValueError",
     "evalue": "operands could not be broadcast together with shapes (2,3) (2,3,3) ",
     "output_type": "error",
     "traceback": [
      "\u001b[1;31m---------------------------------------------------------------------------\u001b[0m",
      "\u001b[1;31mValueError\u001b[0m                                Traceback (most recent call last)",
      "Cell \u001b[1;32mIn[102], line 2\u001b[0m\n\u001b[0;32m      1\u001b[0m \u001b[38;5;66;03m#reshaping a2 to be compatible with a3\u001b[39;00m\n\u001b[1;32m----> 2\u001b[0m a2 \u001b[38;5;241m*\u001b[39m a3\n",
      "\u001b[1;31mValueError\u001b[0m: operands could not be broadcast together with shapes (2,3) (2,3,3) "
     ]
    }
   ],
   "source": [
    "#reshaping a2 to be compatible with a3\n",
    "a2 * a3"
   ]
  },
  {
   "cell_type": "code",
   "execution_count": null,
   "id": "8949f16e-db00-44f2-86af-32369eecd52b",
   "metadata": {},
   "outputs": [],
   "source": []
  },
  {
   "cell_type": "code",
   "execution_count": 116,
   "id": "102fe9e2-a84d-4c9a-a0c1-c981bf443f2e",
   "metadata": {},
   "outputs": [
    {
     "data": {
      "text/plain": [
       "array([[1.        , 1.        , 1.        ],\n",
       "       [5.        , 1.2       , 1.23333333]])"
      ]
     },
     "execution_count": 116,
     "metadata": {},
     "output_type": "execute_result"
    }
   ],
   "source": [
    "a2/a1"
   ]
  },
  {
   "cell_type": "code",
   "execution_count": 115,
   "id": "66ccefa2-abc8-4cda-b29c-b7212577239e",
   "metadata": {},
   "outputs": [
    {
     "data": {
      "text/plain": [
       "array([[1., 1., 1.],\n",
       "       [5., 1., 1.]])"
      ]
     },
     "execution_count": 115,
     "metadata": {},
     "output_type": "execute_result"
    }
   ],
   "source": [
    "#Floor Division removes the decimals (rounds down)\n",
    "a2 // a1"
   ]
  },
  {
   "cell_type": "code",
   "execution_count": 117,
   "id": "af484f0a-b8e5-4c49-adba-e4e7170a5598",
   "metadata": {},
   "outputs": [
    {
     "data": {
      "text/plain": [
       "array([[ 1.  ,  4.  ,  9.  ],\n",
       "       [25.  ,  5.76, 13.69]])"
      ]
     },
     "execution_count": 117,
     "metadata": {},
     "output_type": "execute_result"
    }
   ],
   "source": [
    "a2** 2\n",
    "#** is to the power"
   ]
  },
  {
   "cell_type": "code",
   "execution_count": 118,
   "id": "a989fc15-7ffe-4715-a7eb-2f3985785c11",
   "metadata": {},
   "outputs": [
    {
     "data": {
      "text/plain": [
       "array([[ 1.  ,  4.  ,  9.  ],\n",
       "       [25.  ,  5.76, 13.69]])"
      ]
     },
     "execution_count": 118,
     "metadata": {},
     "output_type": "execute_result"
    }
   ],
   "source": [
    "np.square(a2)"
   ]
  },
  {
   "cell_type": "code",
   "execution_count": 119,
   "id": "f2672299-c7a6-4ec8-82be-5df65e0d6564",
   "metadata": {},
   "outputs": [
    {
     "data": {
      "text/plain": [
       "array([ 2.71828183,  7.3890561 , 20.08553692])"
      ]
     },
     "execution_count": 119,
     "metadata": {},
     "output_type": "execute_result"
    }
   ],
   "source": [
    "np.exp(a1)\n",
    "#exponential"
   ]
  },
  {
   "cell_type": "code",
   "execution_count": 120,
   "id": "898cdc7c-eb0c-4bd3-ae2c-d8fadec99d47",
   "metadata": {},
   "outputs": [
    {
     "data": {
      "text/plain": [
       "array([0.        , 0.69314718, 1.09861229])"
      ]
     },
     "execution_count": 120,
     "metadata": {},
     "output_type": "execute_result"
    }
   ],
   "source": [
    "np.log(a1)\n",
    "#exponential"
   ]
  },
  {
   "cell_type": "markdown",
   "id": "08477b22-ddee-4a0f-bad7-0a0b0b5e68cd",
   "metadata": {},
   "source": [
    "### Aggregation\n",
    ":Performing the same operation on a number of things"
   ]
  },
  {
   "cell_type": "code",
   "execution_count": 121,
   "id": "e9de67a8-3042-44e4-90be-680a21a80360",
   "metadata": {},
   "outputs": [
    {
     "data": {
      "text/plain": [
       "array([1, 2, 3])"
      ]
     },
     "execution_count": 121,
     "metadata": {},
     "output_type": "execute_result"
    }
   ],
   "source": [
    "a1 "
   ]
  },
  {
   "cell_type": "code",
   "execution_count": 122,
   "id": "70319959-7ba9-48bf-8ecb-e24785d1939f",
   "metadata": {},
   "outputs": [
    {
     "data": {
      "text/plain": [
       "6"
      ]
     },
     "execution_count": 122,
     "metadata": {},
     "output_type": "execute_result"
    }
   ],
   "source": [
    "sum(a1)"
   ]
  },
  {
   "cell_type": "code",
   "execution_count": 123,
   "id": "d38cb2f2-87a4-4d9d-a1f9-0e18354d926b",
   "metadata": {},
   "outputs": [
    {
     "data": {
      "text/plain": [
       "6"
      ]
     },
     "execution_count": 123,
     "metadata": {},
     "output_type": "execute_result"
    }
   ],
   "source": [
    "np.sum(a1)"
   ]
  },
  {
   "cell_type": "markdown",
   "id": "8b4264b2-6429-40e4-8198-0081d259bd72",
   "metadata": {},
   "source": [
    "#### What's the difference between np.sum() and sum()? \n",
    "np.sum() is the function of numpy \n",
    "while sum() is the function of python\n",
    "\n",
    "Only use python's method on python dataype and \n",
    "Only use Nmpy's methods on numpy datatypes"
   ]
  },
  {
   "cell_type": "markdown",
   "id": "59bbe5d9-b43d-4879-bbd8-3023b0c78e7a",
   "metadata": {},
   "source": [
    "#### Demonstrating the difference through speed"
   ]
  },
  {
   "cell_type": "code",
   "execution_count": 125,
   "id": "647bbe5c-d579-4b42-8c9f-f9dd072f8a9d",
   "metadata": {},
   "outputs": [
    {
     "data": {
      "text/plain": [
       "100000"
      ]
     },
     "execution_count": 125,
     "metadata": {},
     "output_type": "execute_result"
    }
   ],
   "source": [
    "massive_array = np.random.random(100000)\n",
    "massive_array.size"
   ]
  },
  {
   "cell_type": "code",
   "execution_count": 127,
   "id": "e1d6182c-db50-4fb2-a43a-d4c2e76e80c7",
   "metadata": {},
   "outputs": [
    {
     "name": "stdout",
     "output_type": "stream",
     "text": [
      "24.8 ms ± 1.53 ms per loop (mean ± std. dev. of 7 runs, 10 loops each)\n",
      "61.5 µs ± 15.1 µs per loop (mean ± std. dev. of 7 runs, 10,000 loops each)\n"
     ]
    }
   ],
   "source": [
    "%timeit sum(massive_array) #python's sum()\n",
    "%timeit np.sum(massive_array) #Numpy's Sum\n",
    "#timeit computes how much time it takes to run "
   ]
  },
  {
   "cell_type": "markdown",
   "id": "ba18fff3-4032-4b35-9faa-917514453e47",
   "metadata": {},
   "source": [
    "#### Interpretation of time Differences \n",
    "##### 24.8 ms ± 1.53 ms per loop (mean ± std. dev. of 7 runs, 10 loops each)\r",
    "The python's sum() took 24.8 miliseconds \n",
    "\n",
    "\n",
    "##### 61.5 µs ± 15.1 µs per loop (mean ± std. dev. of 7 runs, 10,000 loops eac)\n",
    "\n",
    "The NumPy's sum() took 61.5 microseconds or 0.0615 miliseconds\n",
    "\r\n",
    "\n"
   ]
  },
  {
   "cell_type": "code",
   "execution_count": 132,
   "id": "d97e496f-ad62-490e-a0f1-094057f9266b",
   "metadata": {},
   "outputs": [
    {
     "name": "stdout",
     "output_type": "stream",
     "text": [
      "5.0 1.0 1.2724647997750926 1.6191666666666666\n"
     ]
    }
   ],
   "source": [
    "print(np.max(a2),\n",
    "      np.min(a2),\n",
    "      np.std(a2),#standard Deviation\n",
    "      np.var(a2) # Variance\n",
    "     ) \n"
   ]
  },
  {
   "cell_type": "markdown",
   "id": "aa3672a1-a954-48b8-adbc-c51c9465dfe8",
   "metadata": {},
   "source": [
    "#### Standard Devieation and Variances"
   ]
  },
  {
   "cell_type": "code",
   "execution_count": 133,
   "id": "5ca1198c-e673-4ef5-b781-712d505636a9",
   "metadata": {},
   "outputs": [],
   "source": [
    "high_var_arr = np.array([1,100,200,300,4000,5000])\n",
    "low_var_arr = np.array([2,4,6,8,10])"
   ]
  },
  {
   "cell_type": "code",
   "execution_count": 137,
   "id": "0439286e-7d36-4773-a7d0-d06210fedfd7",
   "metadata": {},
   "outputs": [
    {
     "data": {
      "image/png": "[encoded data removed]",
      "text/plain": [
       "<Figure size 640x480 with 1 Axes>"
      ]
     },
     "metadata": {},
     "output_type": "display_data"
    }
   ],
   "source": [
    "%matplotlib inline\n",
    "import matplotlib.pyplot as plt \n",
    "plt.hist(high_var_arr)\n",
    "plt.show()"
   ]
  },
  {
   "cell_type": "code",
   "execution_count": 138,
   "id": "2d7ae393-b5aa-469c-af41-4e29fda272ff",
   "metadata": {},
   "outputs": [
    {
     "data": {
      "image/png": "[encoded data removed]",
      "text/plain": [
       "<Figure size 640x480 with 1 Axes>"
      ]
     },
     "metadata": {},
     "output_type": "display_data"
    }
   ],
   "source": [
    "plt.hist(low_var_arr)\n",
    "plt.show()"
   ]
  },
  {
   "cell_type": "markdown",
   "id": "79347d00-1da5-4e19-bd15-96210e98c55f",
   "metadata": {},
   "source": [
    "### Reshaping and Transposing"
   ]
  },
  {
   "cell_type": "code",
   "execution_count": 139,
   "id": "f354f76d-c92e-4bb4-8d13-6c27be8a5089",
   "metadata": {},
   "outputs": [
    {
     "data": {
      "text/plain": [
       "(2, 3)"
      ]
     },
     "execution_count": 139,
     "metadata": {},
     "output_type": "execute_result"
    }
   ],
   "source": [
    "a2.shape"
   ]
  },
  {
   "cell_type": "code",
   "execution_count": 140,
   "id": "e51b4df6-a4a2-4ef9-985f-9e84c47ba798",
   "metadata": {},
   "outputs": [
    {
     "data": {
      "text/plain": [
       "(2, 3, 3)"
      ]
     },
     "execution_count": 140,
     "metadata": {},
     "output_type": "execute_result"
    }
   ],
   "source": [
    "a3.shape"
   ]
  },
  {
   "cell_type": "code",
   "execution_count": 145,
   "id": "ce321883-32b4-436d-9a00-a29921883235",
   "metadata": {},
   "outputs": [],
   "source": [
    "# Reshaping\n",
    "a2_reshape = a2.reshape(2,3,1)"
   ]
  },
  {
   "cell_type": "code",
   "execution_count": 146,
   "id": "21d0b1e6-d8e5-4795-8922-c1eed23fd4b5",
   "metadata": {},
   "outputs": [
    {
     "data": {
      "text/plain": [
       "array([[[ 1. ,  2. ,  3. ],\n",
       "        [ 8. , 10. , 12. ],\n",
       "        [21. , 24. , 27. ]],\n",
       "\n",
       "       [[35. , 40. , 45. ],\n",
       "        [24. , 26.4, 28.8],\n",
       "        [59.2, 62.9, 66.6]]])"
      ]
     },
     "execution_count": 146,
     "metadata": {},
     "output_type": "execute_result"
    }
   ],
   "source": [
    "a2_reshape*a3"
   ]
  },
  {
   "cell_type": "code",
   "execution_count": 148,
   "id": "edeef1d7-658e-4cac-8303-9b49597a8961",
   "metadata": {},
   "outputs": [
    {
     "data": {
      "text/plain": [
       "array([[1. , 2. , 3. ],\n",
       "       [5. , 2.4, 3.7]])"
      ]
     },
     "execution_count": 148,
     "metadata": {},
     "output_type": "execute_result"
    }
   ],
   "source": [
    "a2"
   ]
  },
  {
   "cell_type": "code",
   "execution_count": 149,
   "id": "db0aa0e5-0f1d-4783-af35-0ad9caf6cd10",
   "metadata": {},
   "outputs": [
    {
     "data": {
      "text/plain": [
       "array([[1. , 5. ],\n",
       "       [2. , 2.4],\n",
       "       [3. , 3.7]])"
      ]
     },
     "execution_count": 149,
     "metadata": {},
     "output_type": "execute_result"
    }
   ],
   "source": [
    "#transposing: it switches the axes \n",
    "a2.T"
   ]
  },
  {
   "cell_type": "code",
   "execution_count": 151,
   "id": "52f46b3f-1572-4524-8ebc-49fb4175b0a4",
   "metadata": {},
   "outputs": [
    {
     "data": {
      "text/plain": [
       "(3, 2)"
      ]
     },
     "execution_count": 151,
     "metadata": {},
     "output_type": "execute_result"
    }
   ],
   "source": [
    "a2.T.shape"
   ]
  },
  {
   "cell_type": "markdown",
   "id": "b81f3c38-22a6-4c4a-91de-f84fd9b4a120",
   "metadata": {},
   "source": [
    "### Dot Product\n",
    "##### dot product of two arrays  (the inner product of vectors)"
   ]
  },
  {
   "cell_type": "code",
   "execution_count": 155,
   "id": "a7ebf181-294d-4bd7-93de-09f9692c3510",
   "metadata": {},
   "outputs": [],
   "source": [
    "np.random.seed(0)\n",
    "mat1 = np.random.randint(10, size=(5,3))\n",
    "mat2 = np.random.randint(10, size=(5,3))"
   ]
  },
  {
   "cell_type": "code",
   "execution_count": 162,
   "id": "51fc86e4-1d75-4f4c-92ef-7eae30875daf",
   "metadata": {},
   "outputs": [
    {
     "data": {
      "text/plain": [
       "array([[30,  0, 21],\n",
       "       [24,  7, 45],\n",
       "       [27, 40, 18],\n",
       "       [16, 21,  0],\n",
       "       [24, 40,  0]])"
      ]
     },
     "execution_count": 162,
     "metadata": {},
     "output_type": "execute_result"
    }
   ],
   "source": [
    "#element-wise multiplication (hadamard product)\n",
    "mat1 * mat2"
   ]
  },
  {
   "cell_type": "code",
   "execution_count": 165,
   "id": "37afc575-95ef-4643-9101-69f9bb047ac7",
   "metadata": {},
   "outputs": [],
   "source": [
    "#mat1 is 5,3\n",
    "#mat2 is 5,3 \n",
    "# Dot product will only work if the col1 is same with row2\n",
    "#ex: (2,3)*(3,5)\n",
    "mat1_transposed = mat1.T"
   ]
  },
  {
   "cell_type": "code",
   "execution_count": 166,
   "id": "1db51022-d4ea-4e3c-a143-81464fda7d78",
   "metadata": {},
   "outputs": [
    {
     "data": {
      "text/plain": [
       "array([[121, 114,  77],\n",
       "       [153, 108,  80],\n",
       "       [135,  69,  84]])"
      ]
     },
     "execution_count": 166,
     "metadata": {},
     "output_type": "execute_result"
    }
   ],
   "source": [
    "np.dot(mat1_transposed, mat2)"
   ]
  },
  {
   "cell_type": "markdown",
   "id": "c3b85c0d-e7a9-4afc-9c03-15cd93c7de78",
   "metadata": {},
   "source": [
    "## Dot Product Example with Nut Butter Sales"
   ]
  },
  {
   "cell_type": "code",
   "execution_count": 167,
   "id": "dc0c5f37-e614-40c4-b74c-e8d2a6f277bf",
   "metadata": {},
   "outputs": [],
   "source": [
    "np.random.seed(0)\n",
    "#Number of Jars Sold\n",
    "sales_amounts = np.random.randint(20, size=(5,3))"
   ]
  },
  {
   "cell_type": "code",
   "execution_count": 179,
   "id": "11a91529-10a3-4369-9ce7-565826f6eb7c",
   "metadata": {},
   "outputs": [],
   "source": [
    "#create weekly_sales dataFrame\n",
    "weekly_sales = pd.DataFrame(sales_amounts, \n",
    "                            index = [\"Mon\", \"Tues\", \"Wed\", \"Thurs\", \"Fri\"],\n",
    "                            columns = [\"Almond Butter\", \"Peanut Butter\", \"Cashew Butter\"]\n",
    "                           )"
   ]
  },
  {
   "cell_type": "code",
   "execution_count": 170,
   "id": "fa9374fd-24b2-4f88-b278-46171f5c2012",
   "metadata": {},
   "outputs": [
    {
     "data": {
      "text/html": [
       "<div>\n",
       "<style scoped>\n",
       "    .dataframe tbody tr th:only-of-type {\n",
       "        vertical-align: middle;\n",
       "    }\n",
       "\n",
       "    .dataframe tbody tr th {\n",
       "        vertical-align: top;\n",
       "    }\n",
       "\n",
       "    .dataframe thead th {\n",
       "        text-align: right;\n",
       "    }\n",
       "</style>\n",
       "<table border=\"1\" class=\"dataframe\">\n",
       "  <thead>\n",
       "    <tr style=\"text-align: right;\">\n",
       "      <th></th>\n",
       "      <th>Almond Butter</th>\n",
       "      <th>Peanut Butter</th>\n",
       "      <th>Cashew Butter</th>\n",
       "    </tr>\n",
       "  </thead>\n",
       "  <tbody>\n",
       "    <tr>\n",
       "      <th>Mon</th>\n",
       "      <td>12</td>\n",
       "      <td>15</td>\n",
       "      <td>0</td>\n",
       "    </tr>\n",
       "    <tr>\n",
       "      <th>Tues</th>\n",
       "      <td>3</td>\n",
       "      <td>3</td>\n",
       "      <td>7</td>\n",
       "    </tr>\n",
       "    <tr>\n",
       "      <th>Wed</th>\n",
       "      <td>9</td>\n",
       "      <td>19</td>\n",
       "      <td>18</td>\n",
       "    </tr>\n",
       "    <tr>\n",
       "      <th>Thurs</th>\n",
       "      <td>4</td>\n",
       "      <td>6</td>\n",
       "      <td>12</td>\n",
       "    </tr>\n",
       "    <tr>\n",
       "      <th>Fri</th>\n",
       "      <td>1</td>\n",
       "      <td>6</td>\n",
       "      <td>7</td>\n",
       "    </tr>\n",
       "  </tbody>\n",
       "</table>\n",
       "</div>"
      ],
      "text/plain": [
       "       Almond Butter  Peanut Butter  Cashew Butter\n",
       "Mon               12             15              0\n",
       "Tues               3              3              7\n",
       "Wed                9             19             18\n",
       "Thurs              4              6             12\n",
       "Fri                1              6              7"
      ]
     },
     "execution_count": 170,
     "metadata": {},
     "output_type": "execute_result"
    }
   ],
   "source": [
    "weekly_sales"
   ]
  },
  {
   "cell_type": "code",
   "execution_count": 172,
   "id": "cc709ec0-31b3-49b3-97db-58dda542fdf0",
   "metadata": {},
   "outputs": [
    {
     "data": {
      "text/plain": [
       "array([10,  8, 12])"
      ]
     },
     "execution_count": 172,
     "metadata": {},
     "output_type": "execute_result"
    }
   ],
   "source": [
    "#Prices Arary\n",
    "\n",
    "prices = np.array([10,8,12])\n",
    "prices"
   ]
  },
  {
   "cell_type": "code",
   "execution_count": 182,
   "id": "0b76e16a-1597-40e9-b331-119a57a0e195",
   "metadata": {},
   "outputs": [
    {
     "data": {
      "text/html": [
       "<div>\n",
       "<style scoped>\n",
       "    .dataframe tbody tr th:only-of-type {\n",
       "        vertical-align: middle;\n",
       "    }\n",
       "\n",
       "    .dataframe tbody tr th {\n",
       "        vertical-align: top;\n",
       "    }\n",
       "\n",
       "    .dataframe thead th {\n",
       "        text-align: right;\n",
       "    }\n",
       "</style>\n",
       "<table border=\"1\" class=\"dataframe\">\n",
       "  <thead>\n",
       "    <tr style=\"text-align: right;\">\n",
       "      <th></th>\n",
       "      <th>Almond Butter</th>\n",
       "      <th>Peanut Butter</th>\n",
       "      <th>Cashew Butter</th>\n",
       "    </tr>\n",
       "  </thead>\n",
       "  <tbody>\n",
       "    <tr>\n",
       "      <th>Price</th>\n",
       "      <td>10</td>\n",
       "      <td>8</td>\n",
       "      <td>12</td>\n",
       "    </tr>\n",
       "  </tbody>\n",
       "</table>\n",
       "</div>"
      ],
      "text/plain": [
       "       Almond Butter  Peanut Butter  Cashew Butter\n",
       "Price             10              8             12"
      ]
     },
     "execution_count": 182,
     "metadata": {},
     "output_type": "execute_result"
    }
   ],
   "source": [
    "#Create butter_prices DataFrame\n",
    "butter_prices = pd.DataFrame(prices.reshape(1,3), \n",
    "                             index = [\"Price\"],\n",
    "                            columns = [\"Almond Butter\",\"Peanut Butter\",\"Cashew Butter\"])\n",
    "butter_prices"
   ]
  },
  {
   "cell_type": "code",
   "execution_count": 183,
   "id": "8d478d4b-9106-4ab4-a3aa-9217a2bf669a",
   "metadata": {},
   "outputs": [
    {
     "data": {
      "text/plain": [
       "(5, 3)"
      ]
     },
     "execution_count": 183,
     "metadata": {},
     "output_type": "execute_result"
    }
   ],
   "source": [
    "weekly_sales.shape"
   ]
  },
  {
   "cell_type": "code",
   "execution_count": 184,
   "id": "2ab45dd5-ffd0-4f7c-af49-e9e85651dbd8",
   "metadata": {},
   "outputs": [
    {
     "data": {
      "text/plain": [
       "(1, 3)"
      ]
     },
     "execution_count": 184,
     "metadata": {},
     "output_type": "execute_result"
    }
   ],
   "source": [
    "butter_prices.shape"
   ]
  },
  {
   "cell_type": "code",
   "execution_count": 186,
   "id": "e8c4c1de-f331-4448-a58d-7df551c69c5e",
   "metadata": {},
   "outputs": [],
   "source": [
    "#transposing the butter prices dataframe\n",
    "transposed_ButterPrice = butter_prices.T"
   ]
  },
  {
   "cell_type": "code",
   "execution_count": 195,
   "id": "f38c6feb-2b4d-4562-bc6f-feb4ae7682c7",
   "metadata": {},
   "outputs": [],
   "source": [
    "#Getting the dot product to get the total butter Sales\n",
    "TotalSales = np.dot(weekly_sales, transposed_ButterPrice)"
   ]
  },
  {
   "cell_type": "code",
   "execution_count": 196,
   "id": "71020634-fdd1-499f-943d-91f0bf43cb98",
   "metadata": {},
   "outputs": [
    {
     "data": {
      "text/plain": [
       "array([[240],\n",
       "       [138],\n",
       "       [458],\n",
       "       [232],\n",
       "       [142]])"
      ]
     },
     "execution_count": 196,
     "metadata": {},
     "output_type": "execute_result"
    }
   ],
   "source": [
    "TotalSales"
   ]
  },
  {
   "cell_type": "code",
   "execution_count": 197,
   "id": "686c04a2-924d-437f-a1eb-4d2dec84cfb2",
   "metadata": {},
   "outputs": [
    {
     "data": {
      "text/html": [
       "<div>\n",
       "<style scoped>\n",
       "    .dataframe tbody tr th:only-of-type {\n",
       "        vertical-align: middle;\n",
       "    }\n",
       "\n",
       "    .dataframe tbody tr th {\n",
       "        vertical-align: top;\n",
       "    }\n",
       "\n",
       "    .dataframe thead th {\n",
       "        text-align: right;\n",
       "    }\n",
       "</style>\n",
       "<table border=\"1\" class=\"dataframe\">\n",
       "  <thead>\n",
       "    <tr style=\"text-align: right;\">\n",
       "      <th></th>\n",
       "      <th>Almond Butter</th>\n",
       "      <th>Peanut Butter</th>\n",
       "      <th>Cashew Butter</th>\n",
       "    </tr>\n",
       "  </thead>\n",
       "  <tbody>\n",
       "    <tr>\n",
       "      <th>Mon</th>\n",
       "      <td>12</td>\n",
       "      <td>15</td>\n",
       "      <td>0</td>\n",
       "    </tr>\n",
       "    <tr>\n",
       "      <th>Tues</th>\n",
       "      <td>3</td>\n",
       "      <td>3</td>\n",
       "      <td>7</td>\n",
       "    </tr>\n",
       "    <tr>\n",
       "      <th>Wed</th>\n",
       "      <td>9</td>\n",
       "      <td>19</td>\n",
       "      <td>18</td>\n",
       "    </tr>\n",
       "    <tr>\n",
       "      <th>Thurs</th>\n",
       "      <td>4</td>\n",
       "      <td>6</td>\n",
       "      <td>12</td>\n",
       "    </tr>\n",
       "    <tr>\n",
       "      <th>Fri</th>\n",
       "      <td>1</td>\n",
       "      <td>6</td>\n",
       "      <td>7</td>\n",
       "    </tr>\n",
       "  </tbody>\n",
       "</table>\n",
       "</div>"
      ],
      "text/plain": [
       "       Almond Butter  Peanut Butter  Cashew Butter\n",
       "Mon               12             15              0\n",
       "Tues               3              3              7\n",
       "Wed                9             19             18\n",
       "Thurs              4              6             12\n",
       "Fri                1              6              7"
      ]
     },
     "execution_count": 197,
     "metadata": {},
     "output_type": "execute_result"
    }
   ],
   "source": [
    "weekly_sales"
   ]
  },
  {
   "cell_type": "code",
   "execution_count": 198,
   "id": "698bb867-0505-41ee-8b0b-0487c8f845e2",
   "metadata": {},
   "outputs": [],
   "source": [
    "#adding the TotalSales to the weekly_sales DataFrame\n",
    "weekly_sales[\"Total Sales\"] = TotalSales"
   ]
  },
  {
   "cell_type": "code",
   "execution_count": 199,
   "id": "70ddc237-585d-49bd-a588-4abf66952a5b",
   "metadata": {},
   "outputs": [
    {
     "data": {
      "text/html": [
       "<div>\n",
       "<style scoped>\n",
       "    .dataframe tbody tr th:only-of-type {\n",
       "        vertical-align: middle;\n",
       "    }\n",
       "\n",
       "    .dataframe tbody tr th {\n",
       "        vertical-align: top;\n",
       "    }\n",
       "\n",
       "    .dataframe thead th {\n",
       "        text-align: right;\n",
       "    }\n",
       "</style>\n",
       "<table border=\"1\" class=\"dataframe\">\n",
       "  <thead>\n",
       "    <tr style=\"text-align: right;\">\n",
       "      <th></th>\n",
       "      <th>Almond Butter</th>\n",
       "      <th>Peanut Butter</th>\n",
       "      <th>Cashew Butter</th>\n",
       "      <th>Total Sales</th>\n",
       "    </tr>\n",
       "  </thead>\n",
       "  <tbody>\n",
       "    <tr>\n",
       "      <th>Mon</th>\n",
       "      <td>12</td>\n",
       "      <td>15</td>\n",
       "      <td>0</td>\n",
       "      <td>240</td>\n",
       "    </tr>\n",
       "    <tr>\n",
       "      <th>Tues</th>\n",
       "      <td>3</td>\n",
       "      <td>3</td>\n",
       "      <td>7</td>\n",
       "      <td>138</td>\n",
       "    </tr>\n",
       "    <tr>\n",
       "      <th>Wed</th>\n",
       "      <td>9</td>\n",
       "      <td>19</td>\n",
       "      <td>18</td>\n",
       "      <td>458</td>\n",
       "    </tr>\n",
       "    <tr>\n",
       "      <th>Thurs</th>\n",
       "      <td>4</td>\n",
       "      <td>6</td>\n",
       "      <td>12</td>\n",
       "      <td>232</td>\n",
       "    </tr>\n",
       "    <tr>\n",
       "      <th>Fri</th>\n",
       "      <td>1</td>\n",
       "      <td>6</td>\n",
       "      <td>7</td>\n",
       "      <td>142</td>\n",
       "    </tr>\n",
       "  </tbody>\n",
       "</table>\n",
       "</div>"
      ],
      "text/plain": [
       "       Almond Butter  Peanut Butter  Cashew Butter  Total Sales\n",
       "Mon               12             15              0          240\n",
       "Tues               3              3              7          138\n",
       "Wed                9             19             18          458\n",
       "Thurs              4              6             12          232\n",
       "Fri                1              6              7          142"
      ]
     },
     "execution_count": 199,
     "metadata": {},
     "output_type": "execute_result"
    }
   ],
   "source": [
    "weekly_sales"
   ]
  },
  {
   "cell_type": "code",
   "execution_count": 200,
   "id": "2c708948-a455-400c-a247-a37896e50bac",
   "metadata": {},
   "outputs": [
    {
     "data": {
      "text/html": [
       "<div>\n",
       "<style scoped>\n",
       "    .dataframe tbody tr th:only-of-type {\n",
       "        vertical-align: middle;\n",
       "    }\n",
       "\n",
       "    .dataframe tbody tr th {\n",
       "        vertical-align: top;\n",
       "    }\n",
       "\n",
       "    .dataframe thead th {\n",
       "        text-align: right;\n",
       "    }\n",
       "</style>\n",
       "<table border=\"1\" class=\"dataframe\">\n",
       "  <thead>\n",
       "    <tr style=\"text-align: right;\">\n",
       "      <th></th>\n",
       "      <th>Almond Butter</th>\n",
       "      <th>Peanut Butter</th>\n",
       "      <th>Cashew Butter</th>\n",
       "    </tr>\n",
       "  </thead>\n",
       "  <tbody>\n",
       "    <tr>\n",
       "      <th>Price</th>\n",
       "      <td>10</td>\n",
       "      <td>8</td>\n",
       "      <td>12</td>\n",
       "    </tr>\n",
       "  </tbody>\n",
       "</table>\n",
       "</div>"
      ],
      "text/plain": [
       "       Almond Butter  Peanut Butter  Cashew Butter\n",
       "Price             10              8             12"
      ]
     },
     "execution_count": 200,
     "metadata": {},
     "output_type": "execute_result"
    }
   ],
   "source": [
    "butter_prices"
   ]
  },
  {
   "cell_type": "markdown",
   "id": "991fe811-a00f-4fd5-b1f2-971127404084",
   "metadata": {},
   "source": [
    "### Comparison Operators"
   ]
  },
  {
   "cell_type": "code",
   "execution_count": 201,
   "id": "30d0f85b-0e6e-4597-a914-564196d4517b",
   "metadata": {},
   "outputs": [
    {
     "data": {
      "text/plain": [
       "array([1, 2, 3])"
      ]
     },
     "execution_count": 201,
     "metadata": {},
     "output_type": "execute_result"
    }
   ],
   "source": [
    "a1"
   ]
  },
  {
   "cell_type": "code",
   "execution_count": 202,
   "id": "e8a17b3b-3738-4da9-8fa0-8cdfce77d885",
   "metadata": {},
   "outputs": [
    {
     "data": {
      "text/plain": [
       "array([[1. , 2. , 3. ],\n",
       "       [5. , 2.4, 3.7]])"
      ]
     },
     "execution_count": 202,
     "metadata": {},
     "output_type": "execute_result"
    }
   ],
   "source": [
    "a2"
   ]
  },
  {
   "cell_type": "code",
   "execution_count": 203,
   "id": "cf4ae7fc-27c5-4e01-ba02-f93ce1c339eb",
   "metadata": {},
   "outputs": [
    {
     "data": {
      "text/plain": [
       "array([[False, False, False],\n",
       "       [False, False, False]])"
      ]
     },
     "execution_count": 203,
     "metadata": {},
     "output_type": "execute_result"
    }
   ],
   "source": [
    "a1>a2"
   ]
  },
  {
   "cell_type": "code",
   "execution_count": 204,
   "id": "4c7ad95a-d488-4054-a0f0-7bdbee7363bc",
   "metadata": {},
   "outputs": [
    {
     "data": {
      "text/plain": [
       "array([[ True,  True,  True],\n",
       "       [False, False, False]])"
      ]
     },
     "execution_count": 204,
     "metadata": {},
     "output_type": "execute_result"
    }
   ],
   "source": [
    "a1 >= a2"
   ]
  },
  {
   "cell_type": "markdown",
   "id": "7300ad13-129d-4952-81e8-db5f475c8fd2",
   "metadata": {},
   "source": [
    "### Sorting Arrays"
   ]
  },
  {
   "cell_type": "code",
   "execution_count": 206,
   "id": "24020b9a-ae55-44e3-9a09-d7bcac543581",
   "metadata": {},
   "outputs": [
    {
     "data": {
      "text/plain": [
       "array([[1, 3, 8, 3, 5],\n",
       "       [7, 1, 9, 5, 5],\n",
       "       [6, 0, 5, 4, 2]])"
      ]
     },
     "execution_count": 206,
     "metadata": {},
     "output_type": "execute_result"
    }
   ],
   "source": [
    "random_array"
   ]
  },
  {
   "cell_type": "code",
   "execution_count": 210,
   "id": "b3b3d020-5b0e-400a-9984-3d7d8311f1d5",
   "metadata": {},
   "outputs": [
    {
     "data": {
      "text/plain": [
       "array([[1, 3, 3, 5, 8],\n",
       "       [1, 5, 5, 7, 9],\n",
       "       [0, 2, 4, 5, 6]])"
      ]
     },
     "execution_count": 210,
     "metadata": {},
     "output_type": "execute_result"
    }
   ],
   "source": [
    "np.sort(random_array)"
   ]
  },
  {
   "cell_type": "code",
   "execution_count": 211,
   "id": "481b8c2e-c65a-4563-994d-3591f1b0f700",
   "metadata": {},
   "outputs": [
    {
     "data": {
      "text/plain": [
       "array([[1, 3, 3, 5, 8],\n",
       "       [1, 5, 5, 7, 9],\n",
       "       [0, 2, 4, 5, 6]])"
      ]
     },
     "execution_count": 211,
     "metadata": {},
     "output_type": "execute_result"
    }
   ],
   "source": [
    "np.sort(random_array, axis = 1)\n",
    "#axis 1 will sort the array's rows "
   ]
  },
  {
   "cell_type": "code",
   "execution_count": 212,
   "id": "7131fef0-2319-4917-a73a-f7d845ba72cb",
   "metadata": {},
   "outputs": [
    {
     "data": {
      "text/plain": [
       "array([[1, 0, 5, 3, 2],\n",
       "       [6, 1, 8, 4, 5],\n",
       "       [7, 3, 9, 5, 5]])"
      ]
     },
     "execution_count": 212,
     "metadata": {},
     "output_type": "execute_result"
    }
   ],
   "source": [
    "np.sort(random_array, axis = 0)\n",
    "#axis 1 will sort the array's columns"
   ]
  },
  {
   "cell_type": "code",
   "execution_count": 215,
   "id": "b34f64b3-d684-4422-8124-e1f137dff677",
   "metadata": {},
   "outputs": [
    {
     "data": {
      "text/plain": [
       "array([[0, 1, 3, 4, 2],\n",
       "       [1, 3, 4, 0, 2],\n",
       "       [1, 4, 3, 2, 0]], dtype=int64)"
      ]
     },
     "execution_count": 215,
     "metadata": {},
     "output_type": "execute_result"
    }
   ],
   "source": [
    "np.argsort(random_array)\n",
    "#returnns the indices that would sort an array"
   ]
  },
  {
   "cell_type": "code",
   "execution_count": 217,
   "id": "476422ce-afa3-47aa-a733-55ed3a17de69",
   "metadata": {},
   "outputs": [
    {
     "data": {
      "text/plain": [
       "array([[1, 3, 8, 3, 5],\n",
       "       [7, 1, 9, 5, 5],\n",
       "       [6, 0, 5, 4, 2]])"
      ]
     },
     "execution_count": 217,
     "metadata": {},
     "output_type": "execute_result"
    }
   ],
   "source": [
    "random_array"
   ]
  },
  {
   "cell_type": "code",
   "execution_count": 218,
   "id": "e47c37ef-95eb-4537-9736-71a2adb3e3d1",
   "metadata": {},
   "outputs": [
    {
     "data": {
      "text/plain": [
       "0"
      ]
     },
     "execution_count": 218,
     "metadata": {},
     "output_type": "execute_result"
    }
   ],
   "source": [
    "np.argmin(a1)\n",
    "#finding the index of the minimum number"
   ]
  },
  {
   "cell_type": "code",
   "execution_count": 231,
   "id": "b3cfa663-2cb4-47dc-8ea4-4a1a993c8141",
   "metadata": {},
   "outputs": [
    {
     "data": {
      "text/plain": [
       "2"
      ]
     },
     "execution_count": 231,
     "metadata": {},
     "output_type": "execute_result"
    }
   ],
   "source": [
    "np.argmax(a1)\n",
    "#finding the index of the maximum number"
   ]
  },
  {
   "cell_type": "markdown",
   "id": "3b6eda4b-c2f7-4dc3-b4dd-39ec938cd35c",
   "metadata": {},
   "source": [
    "### NumPy Practical Application"
   ]
  },
  {
   "cell_type": "code",
   "execution_count": 249,
   "id": "1b15e115-abde-40f8-ae05-1b51e457bd44",
   "metadata": {},
   "outputs": [],
   "source": [
    "from matplotlib.image import imread"
   ]
  },
  {
   "cell_type": "code",
   "execution_count": null,
   "id": "531168cd-a5eb-4c04-8249-d960887df70c",
   "metadata": {},
   "outputs": [],
   "source": []
  },
  {
   "cell_type": "code",
   "execution_count": 252,
   "id": "44c58f83-1663-41fc-852b-139e17fa1b75",
   "metadata": {},
   "outputs": [],
   "source": [
    "#turning an Image into Numpy Array\n",
    "panda = imread(\"panda.png\")"
   ]
  },
  {
   "cell_type": "code",
   "execution_count": 259,
   "id": "fe55d7eb-ea17-4a82-8e94-be6c8b85b15c",
   "metadata": {},
   "outputs": [
    {
     "data": {
      "text/plain": [
       "numpy.ndarray"
      ]
     },
     "execution_count": 259,
     "metadata": {},
     "output_type": "execute_result"
    }
   ],
   "source": [
    "type(panda)"
   ]
  },
  {
   "cell_type": "code",
   "execution_count": 260,
   "id": "4a84bdcc-8790-4247-b98f-8c89c00c613b",
   "metadata": {},
   "outputs": [
    {
     "data": {
      "text/plain": [
       "((2330, 3500, 3), 3, 24465000)"
      ]
     },
     "execution_count": 260,
     "metadata": {},
     "output_type": "execute_result"
    }
   ],
   "source": [
    "panda.shape, panda.ndim, panda.size"
   ]
  },
  {
   "cell_type": "code",
   "execution_count": 262,
   "id": "fb5eb615-cdf8-4e8c-aa84-a68c76025a47",
   "metadata": {},
   "outputs": [
    {
     "data": {
      "text/plain": [
       "array([[[0.05490196, 0.10588235, 0.06666667],\n",
       "        [0.05490196, 0.10588235, 0.06666667],\n",
       "        [0.05490196, 0.10588235, 0.06666667],\n",
       "        ...,\n",
       "        [0.16470589, 0.12941177, 0.09411765],\n",
       "        [0.16470589, 0.12941177, 0.09411765],\n",
       "        [0.16470589, 0.12941177, 0.09411765]],\n",
       "\n",
       "       [[0.05490196, 0.10588235, 0.06666667],\n",
       "        [0.05490196, 0.10588235, 0.06666667],\n",
       "        [0.05490196, 0.10588235, 0.06666667],\n",
       "        ...,\n",
       "        [0.16470589, 0.12941177, 0.09411765],\n",
       "        [0.16470589, 0.12941177, 0.09411765],\n",
       "        [0.16470589, 0.12941177, 0.09411765]],\n",
       "\n",
       "       [[0.05490196, 0.10588235, 0.06666667],\n",
       "        [0.05490196, 0.10588235, 0.06666667],\n",
       "        [0.05490196, 0.10588235, 0.06666667],\n",
       "        ...,\n",
       "        [0.16470589, 0.12941177, 0.09411765],\n",
       "        [0.16470589, 0.12941177, 0.09411765],\n",
       "        [0.16470589, 0.12941177, 0.09411765]]], dtype=float32)"
      ]
     },
     "execution_count": 262,
     "metadata": {},
     "output_type": "execute_result"
    }
   ],
   "source": [
    "panda[:3]\n",
    "# to check the array. each item contains numbers that represents the colors of the pixels"
   ]
  },
  {
   "cell_type": "code",
   "execution_count": 263,
   "id": "77597574-40b9-401f-8cf8-40fa5358f422",
   "metadata": {},
   "outputs": [],
   "source": [
    "car = imread(\"car-photo.png\")"
   ]
  },
  {
   "cell_type": "code",
   "execution_count": 264,
   "id": "31c1abef-8ba7-4bb7-bf16-377125b46cef",
   "metadata": {},
   "outputs": [
    {
     "data": {
      "text/plain": [
       "numpy.ndarray"
      ]
     },
     "execution_count": 264,
     "metadata": {},
     "output_type": "execute_result"
    }
   ],
   "source": [
    "type(car)"
   ]
  },
  {
   "cell_type": "code",
   "execution_count": null,
   "id": "60413b3c-36a5-42ed-b914-f40519cd2020",
   "metadata": {},
   "outputs": [],
   "source": []
  }
 ],
 "metadata": {
  "kernelspec": {
   "display_name": "Python 3 (ipykernel)",
   "language": "python",
   "name": "python3"
  },
  "language_info": {
   "codemirror_mode": {
    "name": "ipython",
    "version": 3
   },
   "file_extension": ".py",
   "mimetype": "text/x-python",
   "name": "python",
   "nbconvert_exporter": "python",
   "pygments_lexer": "ipython3",
   "version": "3.12.3"
  }
 },
 "nbformat": 4,
 "nbformat_minor": 5
}
